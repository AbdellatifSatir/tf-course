{
 "cells": [
  {
   "cell_type": "code",
   "execution_count": 1,
   "id": "588169a1",
   "metadata": {},
   "outputs": [],
   "source": [
    "from tensorflow import keras\n",
    "import tensorflow as tf\n",
    "import pandas as pd \n",
    "import numpy as np\n",
    "import matplotlib.pyplot as plt\n",
    "%matplotlib inline"
   ]
  },
  {
   "cell_type": "code",
   "execution_count": 2,
   "id": "ee001e19",
   "metadata": {},
   "outputs": [
    {
     "data": {
      "text/plain": [
       "[PhysicalDevice(name='/physical_device:CPU:0', device_type='CPU')]"
      ]
     },
     "execution_count": 2,
     "metadata": {},
     "output_type": "execute_result"
    }
   ],
   "source": [
    "tf.config.experimental.list_physical_devices()"
   ]
  },
  {
   "cell_type": "code",
   "execution_count": 3,
   "id": "91a3f2a6",
   "metadata": {},
   "outputs": [
    {
     "data": {
      "text/plain": [
       "True"
      ]
     },
     "execution_count": 3,
     "metadata": {},
     "output_type": "execute_result"
    }
   ],
   "source": [
    "tf.test.is_built_with_cuda()"
   ]
  },
  {
   "cell_type": "markdown",
   "id": "69256e89",
   "metadata": {},
   "source": [
    "### load the data"
   ]
  },
  {
   "cell_type": "code",
   "execution_count": 4,
   "id": "7e100a88",
   "metadata": {},
   "outputs": [],
   "source": [
    "(x_train,y_train),(x_test,y_test) = keras.datasets.cifar10.load_data()"
   ]
  },
  {
   "cell_type": "markdown",
   "id": "aca5469e",
   "metadata": {},
   "source": [
    "### data understanding"
   ]
  },
  {
   "cell_type": "code",
   "execution_count": 5,
   "id": "7b68e573",
   "metadata": {},
   "outputs": [
    {
     "data": {
      "text/plain": [
       "((50000, 32, 32, 3), (50000, 1))"
      ]
     },
     "execution_count": 5,
     "metadata": {},
     "output_type": "execute_result"
    }
   ],
   "source": [
    "x_train.shape , y_train.shape"
   ]
  },
  {
   "cell_type": "code",
   "execution_count": 6,
   "id": "6e7b3d74",
   "metadata": {},
   "outputs": [
    {
     "data": {
      "text/plain": [
       "array([[6],\n",
       "       [9],\n",
       "       [9],\n",
       "       ...,\n",
       "       [9],\n",
       "       [1],\n",
       "       [1]], dtype=uint8)"
      ]
     },
     "execution_count": 6,
     "metadata": {},
     "output_type": "execute_result"
    }
   ],
   "source": [
    "y_train"
   ]
  },
  {
   "cell_type": "code",
   "execution_count": 7,
   "id": "5789ed78",
   "metadata": {},
   "outputs": [
    {
     "data": {
      "text/plain": [
       "<matplotlib.image.AxesImage at 0x28ae8b1be80>"
      ]
     },
     "execution_count": 7,
     "metadata": {},
     "output_type": "execute_result"
    },
    {
     "data": {
      "image/png": "[encoded data removed]",
      "text/plain": [
       "<Figure size 432x288 with 1 Axes>"
      ]
     },
     "metadata": {
      "needs_background": "light"
     },
     "output_type": "display_data"
    }
   ],
   "source": [
    "plt.imshow(x_train[0])"
   ]
  },
  {
   "cell_type": "code",
   "execution_count": 8,
   "id": "d6afbda5",
   "metadata": {},
   "outputs": [
    {
     "data": {
      "image/png": "[encoded data removed]",
      "text/plain": [
       "<Figure size 432x288 with 1 Axes>"
      ]
     },
     "metadata": {
      "needs_background": "light"
     },
     "output_type": "display_data"
    }
   ],
   "source": [
    "def plot_sample(i):\n",
    "   #keras.utils.array_to_img(x_train[2])    \n",
    "    plt.imshow(x_train[i])\n",
    "\n",
    "plot_sample(1)"
   ]
  },
  {
   "cell_type": "code",
   "execution_count": 9,
   "id": "5b87102b",
   "metadata": {},
   "outputs": [],
   "source": [
    "#https://www.cs.toronto.edu/~kriz/cifar.html\n",
    "classes = ['airplane','automobile','bird','cat','deer','dog','frog','horse','ship','truck']"
   ]
  },
  {
   "cell_type": "code",
   "execution_count": 10,
   "id": "264d974a",
   "metadata": {},
   "outputs": [
    {
     "name": "stdout",
     "output_type": "stream",
     "text": [
      "truck\n"
     ]
    }
   ],
   "source": [
    "def print_label(i):\n",
    "    print(classes[y_train[i][0]])\n",
    "\n",
    "print_label(1)"
   ]
  },
  {
   "cell_type": "markdown",
   "id": "ec8bbe3d",
   "metadata": {},
   "source": [
    "### Scale X data"
   ]
  },
  {
   "cell_type": "code",
   "execution_count": 11,
   "id": "6c139f9d",
   "metadata": {},
   "outputs": [],
   "source": [
    "np.max(x_train)\n",
    "\n",
    "x_train_scaled = x_train / np.max(x_train)\n",
    "x_test_scaled = x_test / np.max(x_train)"
   ]
  },
  {
   "cell_type": "code",
   "execution_count": 12,
   "id": "1d58817c",
   "metadata": {},
   "outputs": [
    {
     "data": {
      "text/plain": [
       "(1.0, 0.0, 0.4588235294117647)"
      ]
     },
     "execution_count": 12,
     "metadata": {},
     "output_type": "execute_result"
    }
   ],
   "source": [
    "np.max(x_train_scaled) , np.min(x_train_scaled) , np.median(x_train_scaled)"
   ]
  },
  {
   "cell_type": "markdown",
   "id": "779ca5dc",
   "metadata": {},
   "source": [
    "### Encoding Y data (OHE)"
   ]
  },
  {
   "cell_type": "code",
   "execution_count": 13,
   "id": "2c8dda1e",
   "metadata": {},
   "outputs": [
    {
     "data": {
      "text/plain": [
       "array([0, 1, 2, 3, 4, 5, 6, 7, 8, 9], dtype=uint8)"
      ]
     },
     "execution_count": 13,
     "metadata": {},
     "output_type": "execute_result"
    }
   ],
   "source": [
    "np.transpose(y_train[:9])\n",
    "np.unique(y_train)"
   ]
  },
  {
   "cell_type": "code",
   "execution_count": 14,
   "id": "b6eece9f",
   "metadata": {},
   "outputs": [],
   "source": [
    "y_train_categ = keras.utils.to_categorical(y_train , num_classes=len(np.unique(y_train)) , dtype='float32')\n",
    "y_test_categ = keras.utils.to_categorical(y_test , num_classes=len(np.unique(y_train)) , dtype='float32')"
   ]
  },
  {
   "cell_type": "code",
   "execution_count": 15,
   "id": "c9539d33",
   "metadata": {},
   "outputs": [
    {
     "data": {
      "text/plain": [
       "array([[6],\n",
       "       [9],\n",
       "       [9]], dtype=uint8)"
      ]
     },
     "execution_count": 15,
     "metadata": {},
     "output_type": "execute_result"
    }
   ],
   "source": [
    "y_train[:3] # in NN we use loss='sparse_categorigal_crossentropy'"
   ]
  },
  {
   "cell_type": "code",
   "execution_count": 19,
   "id": "48c0653f",
   "metadata": {},
   "outputs": [
    {
     "data": {
      "text/plain": [
       "array([[0., 0., 0., 0., 0., 0., 1., 0., 0., 0.],\n",
       "       [0., 0., 0., 0., 0., 0., 0., 0., 0., 1.],\n",
       "       [0., 0., 0., 0., 0., 0., 0., 0., 0., 1.]], dtype=float32)"
      ]
     },
     "execution_count": 19,
     "metadata": {},
     "output_type": "execute_result"
    }
   ],
   "source": [
    "y_train_categ[:3] # in NN we use loss='categorical_crossentropy'"
   ]
  },
  {
   "cell_type": "markdown",
   "id": "a90ffd74",
   "metadata": {},
   "source": [
    "### Model"
   ]
  },
  {
   "cell_type": "code",
   "execution_count": 20,
   "id": "128e1e29",
   "metadata": {},
   "outputs": [
    {
     "data": {
      "text/plain": [
       "(50000, 32, 32, 3)"
      ]
     },
     "execution_count": 20,
     "metadata": {},
     "output_type": "execute_result"
    }
   ],
   "source": [
    "x_train_scaled.shape"
   ]
  },
  {
   "cell_type": "code",
   "execution_count": 21,
   "id": "3e28e715",
   "metadata": {},
   "outputs": [
    {
     "data": {
      "text/plain": [
       "3072"
      ]
     },
     "execution_count": 21,
     "metadata": {},
     "output_type": "execute_result"
    }
   ],
   "source": [
    "32*32*3"
   ]
  },
  {
   "cell_type": "code",
   "execution_count": 22,
   "id": "dd40082c",
   "metadata": {
    "scrolled": true
   },
   "outputs": [
    {
     "name": "stdout",
     "output_type": "stream",
     "text": [
      "Epoch 1/50\n",
      "1563/1563 [==============================] - 13s 3ms/step - loss: 2.1148 - accuracy: 0.2174\n",
      "Epoch 2/50\n",
      "1563/1563 [==============================] - 6s 4ms/step - loss: 1.8665 - accuracy: 0.3263\n",
      "Epoch 3/50\n",
      "1563/1563 [==============================] - 5s 3ms/step - loss: 1.7724 - accuracy: 0.3641\n",
      "Epoch 4/50\n",
      "1563/1563 [==============================] - 5s 3ms/step - loss: 1.7227 - accuracy: 0.3786\n",
      "Epoch 5/50\n",
      "1563/1563 [==============================] - 5s 3ms/step - loss: 1.6907 - accuracy: 0.3912\n",
      "Epoch 6/50\n",
      "1563/1563 [==============================] - 5s 3ms/step - loss: 1.6606 - accuracy: 0.4041\n",
      "Epoch 7/50\n",
      "1563/1563 [==============================] - 5s 3ms/step - loss: 1.6370 - accuracy: 0.4143\n",
      "Epoch 8/50\n",
      "1563/1563 [==============================] - 4s 3ms/step - loss: 1.6162 - accuracy: 0.4216\n",
      "Epoch 9/50\n",
      "1563/1563 [==============================] - 4s 3ms/step - loss: 1.5991 - accuracy: 0.4268\n",
      "Epoch 10/50\n",
      "1563/1563 [==============================] - 4s 3ms/step - loss: 1.5848 - accuracy: 0.4301\n",
      "Epoch 11/50\n",
      "1563/1563 [==============================] - 4s 3ms/step - loss: 1.5710 - accuracy: 0.4349\n",
      "Epoch 12/50\n",
      "1563/1563 [==============================] - 4s 3ms/step - loss: 1.5574 - accuracy: 0.4427\n",
      "Epoch 13/50\n",
      "1563/1563 [==============================] - 4s 3ms/step - loss: 1.5448 - accuracy: 0.4464\n",
      "Epoch 14/50\n",
      "1563/1563 [==============================] - 5s 3ms/step - loss: 1.5329 - accuracy: 0.4516\n",
      "Epoch 15/50\n",
      "1563/1563 [==============================] - 5s 3ms/step - loss: 1.5247 - accuracy: 0.4548\n",
      "Epoch 16/50\n",
      "1563/1563 [==============================] - 4s 3ms/step - loss: 1.5113 - accuracy: 0.4602\n",
      "Epoch 17/50\n",
      "1563/1563 [==============================] - 5s 3ms/step - loss: 1.5030 - accuracy: 0.4629\n",
      "Epoch 18/50\n",
      "1563/1563 [==============================] - 4s 3ms/step - loss: 1.4952 - accuracy: 0.4642\n",
      "Epoch 19/50\n",
      "1563/1563 [==============================] - 4s 3ms/step - loss: 1.4849 - accuracy: 0.4696\n",
      "Epoch 20/50\n",
      "1563/1563 [==============================] - 4s 3ms/step - loss: 1.4794 - accuracy: 0.4708\n",
      "Epoch 21/50\n",
      "1563/1563 [==============================] - 4s 3ms/step - loss: 1.4708 - accuracy: 0.4752\n",
      "Epoch 22/50\n",
      "1563/1563 [==============================] - 4s 3ms/step - loss: 1.4668 - accuracy: 0.4756\n",
      "Epoch 23/50\n",
      "1563/1563 [==============================] - 4s 3ms/step - loss: 1.4587 - accuracy: 0.4755\n",
      "Epoch 24/50\n",
      "1563/1563 [==============================] - 4s 3ms/step - loss: 1.4538 - accuracy: 0.4798\n",
      "Epoch 25/50\n",
      "1563/1563 [==============================] - 4s 3ms/step - loss: 1.4489 - accuracy: 0.4812\n",
      "Epoch 26/50\n",
      "1563/1563 [==============================] - 4s 3ms/step - loss: 1.4444 - accuracy: 0.4797\n",
      "Epoch 27/50\n",
      "1563/1563 [==============================] - 4s 3ms/step - loss: 1.4383 - accuracy: 0.4873\n",
      "Epoch 28/50\n",
      "1563/1563 [==============================] - 4s 3ms/step - loss: 1.4338 - accuracy: 0.4886\n",
      "Epoch 29/50\n",
      "1563/1563 [==============================] - 4s 3ms/step - loss: 1.4302 - accuracy: 0.4905\n",
      "Epoch 30/50\n",
      "1563/1563 [==============================] - 4s 3ms/step - loss: 1.4263 - accuracy: 0.4907\n",
      "Epoch 31/50\n",
      "1563/1563 [==============================] - 4s 3ms/step - loss: 1.4220 - accuracy: 0.4918\n",
      "Epoch 32/50\n",
      "1563/1563 [==============================] - 4s 3ms/step - loss: 1.4170 - accuracy: 0.4940\n",
      "Epoch 33/50\n",
      "1563/1563 [==============================] - 4s 3ms/step - loss: 1.4151 - accuracy: 0.4949\n",
      "Epoch 34/50\n",
      "1563/1563 [==============================] - 4s 3ms/step - loss: 1.4089 - accuracy: 0.4960\n",
      "Epoch 35/50\n",
      "1563/1563 [==============================] - 4s 3ms/step - loss: 1.4066 - accuracy: 0.4968\n",
      "Epoch 36/50\n",
      "1563/1563 [==============================] - 4s 3ms/step - loss: 1.4006 - accuracy: 0.4993\n",
      "Epoch 37/50\n",
      "1563/1563 [==============================] - 4s 3ms/step - loss: 1.3997 - accuracy: 0.5003\n",
      "Epoch 38/50\n",
      "1563/1563 [==============================] - 4s 3ms/step - loss: 1.3937 - accuracy: 0.5019\n",
      "Epoch 39/50\n",
      "1563/1563 [==============================] - 4s 3ms/step - loss: 1.3921 - accuracy: 0.5001\n",
      "Epoch 40/50\n",
      "1563/1563 [==============================] - 4s 3ms/step - loss: 1.3910 - accuracy: 0.5035\n",
      "Epoch 41/50\n",
      "1563/1563 [==============================] - 4s 3ms/step - loss: 1.3856 - accuracy: 0.5039\n",
      "Epoch 42/50\n",
      "1563/1563 [==============================] - 4s 3ms/step - loss: 1.3827 - accuracy: 0.5062\n",
      "Epoch 43/50\n",
      "1563/1563 [==============================] - 4s 3ms/step - loss: 1.3778 - accuracy: 0.5074\n",
      "Epoch 44/50\n",
      "1563/1563 [==============================] - 4s 3ms/step - loss: 1.3772 - accuracy: 0.5091\n",
      "Epoch 45/50\n",
      "1563/1563 [==============================] - 4s 3ms/step - loss: 1.3739 - accuracy: 0.5104\n",
      "Epoch 46/50\n",
      "1563/1563 [==============================] - 4s 3ms/step - loss: 1.3702 - accuracy: 0.5100\n",
      "Epoch 47/50\n",
      "1563/1563 [==============================] - 4s 3ms/step - loss: 1.3663 - accuracy: 0.5113\n",
      "Epoch 48/50\n",
      "1563/1563 [==============================] - 4s 3ms/step - loss: 1.3625 - accuracy: 0.5114\n",
      "Epoch 49/50\n",
      "1563/1563 [==============================] - 4s 3ms/step - loss: 1.3617 - accuracy: 0.5123\n",
      "Epoch 50/50\n",
      "1563/1563 [==============================] - 5s 3ms/step - loss: 1.3565 - accuracy: 0.5154\n"
     ]
    },
    {
     "data": {
      "text/plain": [
       "<keras.callbacks.History at 0x28afae02b20>"
      ]
     },
     "execution_count": 22,
     "metadata": {},
     "output_type": "execute_result"
    }
   ],
   "source": [
    "model = keras.Sequential([\n",
    "    keras.layers.Flatten(input_shape=(32, 32, 3)),\n",
    "    keras.layers.Dense(30,activation='relu'),\n",
    "    keras.layers.Dense(10,activation='relu'),\n",
    "    keras.layers.Dense(10,activation='sigmoid')\n",
    "])\n",
    "\n",
    "model.compile(optimizer='SGD',loss='categorical_crossentropy',metrics=['accuracy'])\n",
    "\n",
    "model.fit(x_train_scaled , y_train_categ , epochs=50)"
   ]
  },
  {
   "cell_type": "code",
   "execution_count": 23,
   "id": "1f04d67c",
   "metadata": {
    "scrolled": false
   },
   "outputs": [
    {
     "name": "stdout",
     "output_type": "stream",
     "text": [
      "313/313 [==============================] - 1s 3ms/step\n"
     ]
    }
   ],
   "source": [
    "y_pred = model.predict(x_test_scaled)"
   ]
  },
  {
   "cell_type": "code",
   "execution_count": 24,
   "id": "b5a61474",
   "metadata": {},
   "outputs": [
    {
     "data": {
      "text/plain": [
       "2421"
      ]
     },
     "execution_count": 24,
     "metadata": {},
     "output_type": "execute_result"
    }
   ],
   "source": [
    "np.argmax(x_test_scaled[0])"
   ]
  },
  {
   "cell_type": "code",
   "execution_count": 25,
   "id": "e670f9de",
   "metadata": {},
   "outputs": [
    {
     "data": {
      "text/plain": [
       "3"
      ]
     },
     "execution_count": 25,
     "metadata": {},
     "output_type": "execute_result"
    }
   ],
   "source": [
    "np.argmax(y_pred[0])"
   ]
  },
  {
   "cell_type": "code",
   "execution_count": 26,
   "id": "bcf235f0",
   "metadata": {},
   "outputs": [
    {
     "data": {
      "text/plain": [
       "'cat'"
      ]
     },
     "execution_count": 26,
     "metadata": {},
     "output_type": "execute_result"
    }
   ],
   "source": [
    "classes[np.argmax(y_pred[0])]"
   ]
  },
  {
   "cell_type": "code",
   "execution_count": null,
   "id": "9ff7633f",
   "metadata": {},
   "outputs": [],
   "source": []
  },
  {
   "cell_type": "code",
   "execution_count": null,
   "id": "f10e2509",
   "metadata": {},
   "outputs": [],
   "source": []
  },
  {
   "cell_type": "code",
   "execution_count": null,
   "id": "24a4914f",
   "metadata": {},
   "outputs": [],
   "source": []
  }
 ],
 "metadata": {
  "kernelspec": {
   "display_name": "Python 3 (ipykernel)",
   "language": "python",
   "name": "python3"
  },
  "language_info": {
   "codemirror_mode": {
    "name": "ipython",
    "version": 3
   },
   "file_extension": ".py",
   "mimetype": "text/x-python",
   "name": "python",
   "nbconvert_exporter": "python",
   "pygments_lexer": "ipython3",
   "version": "3.9.12"
  }
 },
 "nbformat": 4,
 "nbformat_minor": 5
}
