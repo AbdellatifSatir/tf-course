{
 "cells": [
  {
   "cell_type": "code",
   "execution_count": 201,
   "id": "20e7a0ab",
   "metadata": {},
   "outputs": [],
   "source": [
    "from tensorflow import keras\n",
    "import pandas as pd\n",
    "import numpy as np\n",
    "import seaborn as sn\n",
    "import matplotlib.pyplot as plt \n",
    "%matplotlib inline"
   ]
  },
  {
   "cell_type": "code",
   "execution_count": 202,
   "id": "36799484",
   "metadata": {},
   "outputs": [],
   "source": [
    "import warnings\n",
    "warnings.filterwarnings('ignore')"
   ]
  },
  {
   "cell_type": "code",
   "execution_count": 203,
   "id": "625c149d",
   "metadata": {},
   "outputs": [
    {
     "data": {
      "text/html": [
       "<div>\n",
       "<style scoped>\n",
       "    .dataframe tbody tr th:only-of-type {\n",
       "        vertical-align: middle;\n",
       "    }\n",
       "\n",
       "    .dataframe tbody tr th {\n",
       "        vertical-align: top;\n",
       "    }\n",
       "\n",
       "    .dataframe thead th {\n",
       "        text-align: right;\n",
       "    }\n",
       "</style>\n",
       "<table border=\"1\" class=\"dataframe\">\n",
       "  <thead>\n",
       "    <tr style=\"text-align: right;\">\n",
       "      <th></th>\n",
       "      <th>area</th>\n",
       "      <th>bedrooms</th>\n",
       "      <th>price</th>\n",
       "    </tr>\n",
       "  </thead>\n",
       "  <tbody>\n",
       "    <tr>\n",
       "      <th>0</th>\n",
       "      <td>1056</td>\n",
       "      <td>2</td>\n",
       "      <td>39.07</td>\n",
       "    </tr>\n",
       "    <tr>\n",
       "      <th>1</th>\n",
       "      <td>2600</td>\n",
       "      <td>4</td>\n",
       "      <td>120.00</td>\n",
       "    </tr>\n",
       "    <tr>\n",
       "      <th>2</th>\n",
       "      <td>1440</td>\n",
       "      <td>3</td>\n",
       "      <td>62.00</td>\n",
       "    </tr>\n",
       "    <tr>\n",
       "      <th>3</th>\n",
       "      <td>1521</td>\n",
       "      <td>3</td>\n",
       "      <td>75.00</td>\n",
       "    </tr>\n",
       "    <tr>\n",
       "      <th>4</th>\n",
       "      <td>1200</td>\n",
       "      <td>2</td>\n",
       "      <td>51.00</td>\n",
       "    </tr>\n",
       "  </tbody>\n",
       "</table>\n",
       "</div>"
      ],
      "text/plain": [
       "   area  bedrooms   price\n",
       "0  1056         2   39.07\n",
       "1  2600         4  120.00\n",
       "2  1440         3   62.00\n",
       "3  1521         3   75.00\n",
       "4  1200         2   51.00"
      ]
     },
     "execution_count": 203,
     "metadata": {},
     "output_type": "execute_result"
    }
   ],
   "source": [
    "df = pd.read_csv('homeprices_banglore.csv')\n",
    "df.head()"
   ]
  },
  {
   "cell_type": "code",
   "execution_count": 204,
   "id": "a690e6b2",
   "metadata": {},
   "outputs": [
    {
     "data": {
      "text/html": [
       "<div>\n",
       "<style scoped>\n",
       "    .dataframe tbody tr th:only-of-type {\n",
       "        vertical-align: middle;\n",
       "    }\n",
       "\n",
       "    .dataframe tbody tr th {\n",
       "        vertical-align: top;\n",
       "    }\n",
       "\n",
       "    .dataframe thead th {\n",
       "        text-align: right;\n",
       "    }\n",
       "</style>\n",
       "<table border=\"1\" class=\"dataframe\">\n",
       "  <thead>\n",
       "    <tr style=\"text-align: right;\">\n",
       "      <th></th>\n",
       "      <th>count</th>\n",
       "      <th>mean</th>\n",
       "      <th>std</th>\n",
       "      <th>min</th>\n",
       "      <th>25%</th>\n",
       "      <th>50%</th>\n",
       "      <th>75%</th>\n",
       "      <th>max</th>\n",
       "    </tr>\n",
       "  </thead>\n",
       "  <tbody>\n",
       "    <tr>\n",
       "      <th>area</th>\n",
       "      <td>20.0</td>\n",
       "      <td>1821.4500</td>\n",
       "      <td>864.615794</td>\n",
       "      <td>800.0</td>\n",
       "      <td>1173.75</td>\n",
       "      <td>1480.5</td>\n",
       "      <td>2633.00</td>\n",
       "      <td>3700.0</td>\n",
       "    </tr>\n",
       "    <tr>\n",
       "      <th>bedrooms</th>\n",
       "      <td>20.0</td>\n",
       "      <td>2.9000</td>\n",
       "      <td>0.967906</td>\n",
       "      <td>1.0</td>\n",
       "      <td>2.00</td>\n",
       "      <td>3.0</td>\n",
       "      <td>3.25</td>\n",
       "      <td>5.0</td>\n",
       "    </tr>\n",
       "    <tr>\n",
       "      <th>price</th>\n",
       "      <td>20.0</td>\n",
       "      <td>78.8535</td>\n",
       "      <td>43.761901</td>\n",
       "      <td>32.0</td>\n",
       "      <td>41.50</td>\n",
       "      <td>61.0</td>\n",
       "      <td>106.50</td>\n",
       "      <td>167.0</td>\n",
       "    </tr>\n",
       "  </tbody>\n",
       "</table>\n",
       "</div>"
      ],
      "text/plain": [
       "          count       mean         std    min      25%     50%      75%  \\\n",
       "area       20.0  1821.4500  864.615794  800.0  1173.75  1480.5  2633.00   \n",
       "bedrooms   20.0     2.9000    0.967906    1.0     2.00     3.0     3.25   \n",
       "price      20.0    78.8535   43.761901   32.0    41.50    61.0   106.50   \n",
       "\n",
       "             max  \n",
       "area      3700.0  \n",
       "bedrooms     5.0  \n",
       "price      167.0  "
      ]
     },
     "execution_count": 204,
     "metadata": {},
     "output_type": "execute_result"
    }
   ],
   "source": [
    "df.describe().T"
   ]
  },
  {
   "cell_type": "code",
   "execution_count": 205,
   "id": "20b2cfcf",
   "metadata": {},
   "outputs": [],
   "source": [
    "from sklearn.preprocessing import MinMaxScaler\n",
    "\n",
    "scaler = MinMaxScaler()\n",
    "X = df.drop(columns='price')\n",
    "Y = df['price']\n",
    "\n",
    "X_scaled = scaler.fit_transform(X)\n",
    "Y_scaled = scaler.fit_transform(Y.values.reshape(df.shape[0],1))"
   ]
  },
  {
   "cell_type": "code",
   "execution_count": 206,
   "id": "6c54625b",
   "metadata": {
    "scrolled": true
   },
   "outputs": [
    {
     "data": {
      "text/plain": [
       "(array([[0.08827586, 0.25      ],\n",
       "        [0.62068966, 0.75      ],\n",
       "        [0.22068966, 0.5       ]]),\n",
       " array([[0.05237037],\n",
       "        [0.65185185],\n",
       "        [0.22222222]]))"
      ]
     },
     "execution_count": 206,
     "metadata": {},
     "output_type": "execute_result"
    }
   ],
   "source": [
    "X_scaled[:3] , Y_scaled[:3]"
   ]
  },
  {
   "cell_type": "code",
   "execution_count": 207,
   "id": "d6b64bac",
   "metadata": {
    "scrolled": true
   },
   "outputs": [
    {
     "data": {
      "text/plain": [
       "(   area  bedrooms\n",
       " 0  1056         2\n",
       " 1  2600         4\n",
       " 2  1440         3,\n",
       " 0     39.07\n",
       " 1    120.00\n",
       " 2     62.00\n",
       " Name: price, dtype: float64)"
      ]
     },
     "execution_count": 207,
     "metadata": {},
     "output_type": "execute_result"
    }
   ],
   "source": [
    "X[:3] , Y[:3]"
   ]
  },
  {
   "cell_type": "code",
   "execution_count": null,
   "id": "b2747830",
   "metadata": {},
   "outputs": [],
   "source": []
  },
  {
   "cell_type": "code",
   "execution_count": 208,
   "id": "4d408023",
   "metadata": {
    "scrolled": true
   },
   "outputs": [
    {
     "data": {
      "text/plain": [
       "((2,), (2, 20))"
      ]
     },
     "execution_count": 208,
     "metadata": {},
     "output_type": "execute_result"
    }
   ],
   "source": [
    "np.ones(2).shape , X_scaled.T.shape"
   ]
  },
  {
   "cell_type": "code",
   "execution_count": 209,
   "id": "3c634fc9",
   "metadata": {},
   "outputs": [
    {
     "data": {
      "text/plain": [
       "array([[0.08827586, 0.62068966, 0.22068966, 0.24862069, 0.13793103,\n",
       "        0.12758621, 0.6662069 , 0.86206897, 0.17586207, 1.        ,\n",
       "        0.34482759, 0.68448276, 0.06896552, 0.10344828, 0.5       ,\n",
       "        0.12931034, 0.13103448, 0.25517241, 0.67931034, 0.        ],\n",
       "       [0.25      , 0.75      , 0.5       , 0.5       , 0.25      ,\n",
       "        0.25      , 0.75      , 0.75      , 0.5       , 1.        ,\n",
       "        0.5       , 0.75      , 0.25      , 0.25      , 0.5       ,\n",
       "        0.25      , 0.5       , 0.5       , 0.5       , 0.        ]])"
      ]
     },
     "execution_count": 209,
     "metadata": {},
     "output_type": "execute_result"
    }
   ],
   "source": [
    "X_scaled.T"
   ]
  },
  {
   "cell_type": "code",
   "execution_count": 210,
   "id": "58846c3c",
   "metadata": {},
   "outputs": [
    {
     "data": {
      "text/plain": [
       "array([[ 43.91724138, 115.79310345,  61.79310345,  65.5637931 ,\n",
       "         50.62068966,  49.22413793, 121.93793103, 148.37931034,\n",
       "         55.74137931, 167.        ,  78.55172414, 124.40517241,\n",
       "         41.31034483,  45.96551724,  99.5       ,  49.45689655,\n",
       "         49.68965517,  66.44827586, 123.70689655,  32.        ],\n",
       "       [ 65.75      , 133.25      ,  99.5       ,  99.5       ,\n",
       "         65.75      ,  65.75      , 133.25      , 133.25      ,\n",
       "         99.5       , 167.        ,  99.5       , 133.25      ,\n",
       "         65.75      ,  65.75      ,  99.5       ,  65.75      ,\n",
       "         99.5       ,  99.5       ,  99.5       ,  32.        ]])"
      ]
     },
     "execution_count": 210,
     "metadata": {},
     "output_type": "execute_result"
    }
   ],
   "source": [
    "scaler.inverse_transform(X_scaled.T)"
   ]
  },
  {
   "cell_type": "code",
   "execution_count": 211,
   "id": "b6cda549",
   "metadata": {},
   "outputs": [
    {
     "data": {
      "text/plain": [
       "array([1., 1.])"
      ]
     },
     "execution_count": 211,
     "metadata": {},
     "output_type": "execute_result"
    }
   ],
   "source": [
    "np.ones(2)"
   ]
  },
  {
   "cell_type": "code",
   "execution_count": 212,
   "id": "9864f5f8",
   "metadata": {
    "scrolled": true
   },
   "outputs": [
    {
     "data": {
      "text/plain": [
       "array([0.33827586, 1.37068966, 0.72068966, 0.74862069, 0.38793103,\n",
       "       0.37758621, 1.4162069 , 1.61206897, 0.67586207, 2.        ,\n",
       "       0.84482759, 1.43448276, 0.31896552, 0.35344828, 1.        ,\n",
       "       0.37931034, 0.63103448, 0.75517241, 1.17931034, 0.        ])"
      ]
     },
     "execution_count": 212,
     "metadata": {},
     "output_type": "execute_result"
    }
   ],
   "source": [
    "X.shape[1]\n",
    "np.ones(2)\n",
    "np.dot(np.ones(2),X_scaled.T)"
   ]
  },
  {
   "cell_type": "code",
   "execution_count": 213,
   "id": "8598c5b0",
   "metadata": {},
   "outputs": [
    {
     "data": {
      "text/html": [
       "<div>\n",
       "<style scoped>\n",
       "    .dataframe tbody tr th:only-of-type {\n",
       "        vertical-align: middle;\n",
       "    }\n",
       "\n",
       "    .dataframe tbody tr th {\n",
       "        vertical-align: top;\n",
       "    }\n",
       "\n",
       "    .dataframe thead th {\n",
       "        text-align: right;\n",
       "    }\n",
       "</style>\n",
       "<table border=\"1\" class=\"dataframe\">\n",
       "  <thead>\n",
       "    <tr style=\"text-align: right;\">\n",
       "      <th></th>\n",
       "      <th>0</th>\n",
       "      <th>1</th>\n",
       "      <th>2</th>\n",
       "      <th>3</th>\n",
       "      <th>4</th>\n",
       "      <th>5</th>\n",
       "      <th>6</th>\n",
       "      <th>7</th>\n",
       "      <th>8</th>\n",
       "      <th>9</th>\n",
       "      <th>10</th>\n",
       "      <th>11</th>\n",
       "      <th>12</th>\n",
       "      <th>13</th>\n",
       "      <th>14</th>\n",
       "      <th>15</th>\n",
       "      <th>16</th>\n",
       "      <th>17</th>\n",
       "      <th>18</th>\n",
       "      <th>19</th>\n",
       "    </tr>\n",
       "  </thead>\n",
       "  <tbody>\n",
       "    <tr>\n",
       "      <th>area</th>\n",
       "      <td>1056</td>\n",
       "      <td>2600</td>\n",
       "      <td>1440</td>\n",
       "      <td>1521</td>\n",
       "      <td>1200</td>\n",
       "      <td>1170</td>\n",
       "      <td>2732</td>\n",
       "      <td>3300</td>\n",
       "      <td>1310</td>\n",
       "      <td>3700</td>\n",
       "      <td>1800</td>\n",
       "      <td>2785</td>\n",
       "      <td>1000</td>\n",
       "      <td>1100</td>\n",
       "      <td>2250</td>\n",
       "      <td>1175</td>\n",
       "      <td>1180</td>\n",
       "      <td>1540</td>\n",
       "      <td>2770</td>\n",
       "      <td>800</td>\n",
       "    </tr>\n",
       "    <tr>\n",
       "      <th>bedrooms</th>\n",
       "      <td>2</td>\n",
       "      <td>4</td>\n",
       "      <td>3</td>\n",
       "      <td>3</td>\n",
       "      <td>2</td>\n",
       "      <td>2</td>\n",
       "      <td>4</td>\n",
       "      <td>4</td>\n",
       "      <td>3</td>\n",
       "      <td>5</td>\n",
       "      <td>3</td>\n",
       "      <td>4</td>\n",
       "      <td>2</td>\n",
       "      <td>2</td>\n",
       "      <td>3</td>\n",
       "      <td>2</td>\n",
       "      <td>3</td>\n",
       "      <td>3</td>\n",
       "      <td>3</td>\n",
       "      <td>1</td>\n",
       "    </tr>\n",
       "  </tbody>\n",
       "</table>\n",
       "</div>"
      ],
      "text/plain": [
       "            0     1     2     3     4     5     6     7     8     9     10  \\\n",
       "area      1056  2600  1440  1521  1200  1170  2732  3300  1310  3700  1800   \n",
       "bedrooms     2     4     3     3     2     2     4     4     3     5     3   \n",
       "\n",
       "            11    12    13    14    15    16    17    18   19  \n",
       "area      2785  1000  1100  2250  1175  1180  1540  2770  800  \n",
       "bedrooms     4     2     2     3     2     3     3     3    1  "
      ]
     },
     "execution_count": 213,
     "metadata": {},
     "output_type": "execute_result"
    }
   ],
   "source": [
    "X.T"
   ]
  },
  {
   "cell_type": "markdown",
   "id": "c54f00eb",
   "metadata": {},
   "source": [
    "## Batch GD"
   ]
  },
  {
   "cell_type": "code",
   "execution_count": 67,
   "id": "9beb3fbb",
   "metadata": {},
   "outputs": [],
   "source": [
    "def batch_gradient_descent(X, y_true, epochs, learning_rate=0.01):\n",
    "    \n",
    "    number_of_features = X.shape[1]\n",
    "    w = np.ones(number_of_features)\n",
    "    b = 0\n",
    "    n = X.shape[0]\n",
    "    \n",
    "    #just for vis\n",
    "    cost_list = []\n",
    "    epochs_list = []\n",
    "    \n",
    "    for i in range(epochs):\n",
    "        y_pred = np.dot(w, X_scaled.T) + b\n",
    "        \n",
    "        #loss function here is a MSE\n",
    "        w_grad = -(2/n) * (X.T.dot(y_true - y_pred))\n",
    "        b_grad = -(2/n) * np.sum(y_true - y_pred)\n",
    "        \n",
    "        w = w - learning_rate * w_grad\n",
    "        b = b - learning_rate * b_grad\n",
    "        \n",
    "        cost = np.mean(np.square(y_true-y_pred))\n",
    "        \n",
    "        if i%10==0:\n",
    "            cost_list.append(cost)\n",
    "            epochs_list.append(i)\n",
    "    \n",
    "    return w,b,cost, cost_list,epochs_list\n",
    "        \n",
    "    \n",
    "w,b,cost, cost_list,epochs_list = batch_gradient_descent(X_scaled, Y_scaled.reshape(Y_scaled.shape[0],), epochs=1000)"
   ]
  },
  {
   "cell_type": "code",
   "execution_count": 68,
   "id": "00992e79",
   "metadata": {
    "scrolled": false
   },
   "outputs": [
    {
     "name": "stdout",
     "output_type": "stream",
     "text": [
      "[0.66469087 0.60541671] -0.17792104056392882 0.0048654808183488454\n"
     ]
    },
    {
     "data": {
      "image/png": "[encoded data removed]",
      "text/plain": [
       "<Figure size 432x288 with 1 Axes>"
      ]
     },
     "metadata": {
      "needs_background": "light"
     },
     "output_type": "display_data"
    },
    {
     "data": {
      "text/plain": [
       "(Text(0.5, 17.200000000000003, 'epoch'),\n",
       " Text(17.200000000000003, 0.5, 'cost'),\n",
       " [<matplotlib.lines.Line2D at 0x21f7f0808b0>],\n",
       " None)"
      ]
     },
     "execution_count": 68,
     "metadata": {},
     "output_type": "execute_result"
    }
   ],
   "source": [
    "print(w,b,cost)\n",
    "plt.xlabel('epoch') , plt.ylabel('cost') ,plt.plot(epochs_list,cost_list) , plt.show()"
   ]
  },
  {
   "cell_type": "code",
   "execution_count": 69,
   "id": "603e53af",
   "metadata": {},
   "outputs": [
    {
     "data": {
      "text/plain": [
       "(array([0.66469087, 0.60541671]), -0.17792104056392882)"
      ]
     },
     "execution_count": 69,
     "metadata": {},
     "output_type": "execute_result"
    }
   ],
   "source": [
    "w,b"
   ]
  },
  {
   "cell_type": "code",
   "execution_count": 124,
   "id": "5644865b",
   "metadata": {},
   "outputs": [
    {
     "name": "stdout",
     "output_type": "stream",
     "text": [
      "[0.62068966 0.75      ]\n"
     ]
    },
    {
     "data": {
      "text/plain": [
       "array([[2600.,    4.]])"
      ]
     },
     "execution_count": 124,
     "metadata": {},
     "output_type": "execute_result"
    }
   ],
   "source": [
    "scaler = MinMaxScaler().fit(X)\n",
    "s = scaler.transform([[2600, 4]])[0]\n",
    "print(s)\n",
    "scaler.inverse_transform([s])"
   ]
  },
  {
   "cell_type": "code",
   "execution_count": 133,
   "id": "12fe2849",
   "metadata": {},
   "outputs": [],
   "source": [
    "# def predict(area,bedrooms,w,b):\n",
    "#     scaled_x = scaler.transform([[area, bedrooms]])[0]\n",
    "#     scaled_y = w[0]*scaled_x[0] + w[1]*scaled_x[1] + b\n",
    "#     return scaler.inverse_transform([[scaled_y]])\n",
    "\n",
    "# predict(2600,4,w,b)"
   ]
  },
  {
   "cell_type": "markdown",
   "id": "a6cc0dd2",
   "metadata": {},
   "source": [
    "## Stochastic GD"
   ]
  },
  {
   "cell_type": "code",
   "execution_count": 134,
   "id": "6ed64eb2",
   "metadata": {},
   "outputs": [],
   "source": [
    "import random"
   ]
  },
  {
   "cell_type": "code",
   "execution_count": 149,
   "id": "b4b42c08",
   "metadata": {},
   "outputs": [
    {
     "data": {
      "text/html": [
       "<div>\n",
       "<style scoped>\n",
       "    .dataframe tbody tr th:only-of-type {\n",
       "        vertical-align: middle;\n",
       "    }\n",
       "\n",
       "    .dataframe tbody tr th {\n",
       "        vertical-align: top;\n",
       "    }\n",
       "\n",
       "    .dataframe thead th {\n",
       "        text-align: right;\n",
       "    }\n",
       "</style>\n",
       "<table border=\"1\" class=\"dataframe\">\n",
       "  <thead>\n",
       "    <tr style=\"text-align: right;\">\n",
       "      <th></th>\n",
       "      <th>area</th>\n",
       "      <th>bedrooms</th>\n",
       "    </tr>\n",
       "  </thead>\n",
       "  <tbody>\n",
       "    <tr>\n",
       "      <th>2</th>\n",
       "      <td>1440</td>\n",
       "      <td>3</td>\n",
       "    </tr>\n",
       "    <tr>\n",
       "      <th>13</th>\n",
       "      <td>1100</td>\n",
       "      <td>2</td>\n",
       "    </tr>\n",
       "    <tr>\n",
       "      <th>16</th>\n",
       "      <td>1180</td>\n",
       "      <td>3</td>\n",
       "    </tr>\n",
       "  </tbody>\n",
       "</table>\n",
       "</div>"
      ],
      "text/plain": [
       "    area  bedrooms\n",
       "2   1440         3\n",
       "13  1100         2\n",
       "16  1180         3"
      ]
     },
     "execution_count": 149,
     "metadata": {},
     "output_type": "execute_result"
    }
   ],
   "source": [
    "X.sample(3)"
   ]
  },
  {
   "cell_type": "code",
   "execution_count": 161,
   "id": "83815dbb",
   "metadata": {},
   "outputs": [
    {
     "name": "stdout",
     "output_type": "stream",
     "text": [
      "1\n"
     ]
    },
    {
     "data": {
      "text/html": [
       "<div>\n",
       "<style scoped>\n",
       "    .dataframe tbody tr th:only-of-type {\n",
       "        vertical-align: middle;\n",
       "    }\n",
       "\n",
       "    .dataframe tbody tr th {\n",
       "        vertical-align: top;\n",
       "    }\n",
       "\n",
       "    .dataframe thead th {\n",
       "        text-align: right;\n",
       "    }\n",
       "</style>\n",
       "<table border=\"1\" class=\"dataframe\">\n",
       "  <thead>\n",
       "    <tr style=\"text-align: right;\">\n",
       "      <th></th>\n",
       "      <th>area</th>\n",
       "      <th>bedrooms</th>\n",
       "    </tr>\n",
       "  </thead>\n",
       "  <tbody>\n",
       "    <tr>\n",
       "      <th>18</th>\n",
       "      <td>2770</td>\n",
       "      <td>3</td>\n",
       "    </tr>\n",
       "  </tbody>\n",
       "</table>\n",
       "</div>"
      ],
      "text/plain": [
       "    area  bedrooms\n",
       "18  2770         3"
      ]
     },
     "execution_count": 161,
     "metadata": {},
     "output_type": "execute_result"
    }
   ],
   "source": [
    "random_index = random.randint(0,len(X))\n",
    "print(random_index)\n",
    "# X[random_index]\n",
    "X.sample(random_index)"
   ]
  },
  {
   "cell_type": "code",
   "execution_count": 185,
   "id": "854cbb41",
   "metadata": {},
   "outputs": [],
   "source": [
    "def stochastic_gradient_descent(X, y_true, epochs, learning_rate=0.01):\n",
    "    \n",
    "    number_of_feature = X.shape[1]\n",
    "    w = np.ones(shape=number_of_feature)\n",
    "    b = 0\n",
    "    n = X.shape[0]\n",
    "    \n",
    "    #just for vis\n",
    "    cost_list = []\n",
    "    epochs_list = []\n",
    "    \n",
    "    for i in range(epochs):\n",
    "        #Randomly picked sample\n",
    "        random_index = random.randint(0,number_of_feature-1)\n",
    "        sample_x = X[random_index]\n",
    "        sample_y = y_true[random_index]\n",
    "        \n",
    "        y_pred = np.dot(w, sample_x.T) + b\n",
    "        #loss function here is a MSE\n",
    "        w_grad = -(2/n) * (sample_x.T.dot(sample_y - y_pred))\n",
    "        b_grad = -(2/n) * np.sum(sample_y - y_pred)\n",
    "        \n",
    "        w = w - learning_rate * w_grad\n",
    "        b = b - learning_rate * b_grad\n",
    "        \n",
    "        cost = np.mean(np.square(sample_y - y_pred))\n",
    "        \n",
    "        if i%100==0:\n",
    "            cost_list.append(cost)\n",
    "            epochs_list.append(i)\n",
    "    \n",
    "    return w,b,cost, cost_list,epochs_list\n",
    "\n",
    "    \n",
    "w_sgd,b_sgd,cost_sgd, cost_list_sgd,epochs_list_sgd = stochastic_gradient_descent(X_scaled, Y_scaled.reshape(Y_scaled.shape[0]), epochs=10000)"
   ]
  },
  {
   "cell_type": "code",
   "execution_count": 186,
   "id": "13c9031e",
   "metadata": {},
   "outputs": [
    {
     "name": "stdout",
     "output_type": "stream",
     "text": [
      "[0.68510274 0.66550944] -0.23198605556369284 0.0016491274874497663\n"
     ]
    },
    {
     "data": {
      "image/png": "[encoded data removed]",
      "text/plain": [
       "<Figure size 432x288 with 1 Axes>"
      ]
     },
     "metadata": {
      "needs_background": "light"
     },
     "output_type": "display_data"
    },
    {
     "data": {
      "text/plain": [
       "(Text(0.5, 17.200000000000003, 'epoch'),\n",
       " Text(17.200000000000003, 0.5, 'cost'),\n",
       " [<matplotlib.lines.Line2D at 0x21f02767a30>],\n",
       " None)"
      ]
     },
     "execution_count": 186,
     "metadata": {},
     "output_type": "execute_result"
    }
   ],
   "source": [
    "print(w_sgd,b_sgd,cost_sgd)\n",
    "plt.xlabel('epoch') , plt.ylabel('cost') ,plt.plot(epochs_list_sgd,cost_list_sgd) , plt.show()"
   ]
  },
  {
   "cell_type": "code",
   "execution_count": null,
   "id": "593af7c3",
   "metadata": {},
   "outputs": [],
   "source": []
  }
 ],
 "metadata": {
  "kernelspec": {
   "display_name": "Python 3 (ipykernel)",
   "language": "python",
   "name": "python3"
  },
  "language_info": {
   "codemirror_mode": {
    "name": "ipython",
    "version": 3
   },
   "file_extension": ".py",
   "mimetype": "text/x-python",
   "name": "python",
   "nbconvert_exporter": "python",
   "pygments_lexer": "ipython3",
   "version": "3.9.12"
  }
 },
 "nbformat": 4,
 "nbformat_minor": 5
}
